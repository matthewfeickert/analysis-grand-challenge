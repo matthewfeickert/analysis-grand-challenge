{
 "cells": [
  {
   "cell_type": "code",
   "execution_count": null,
   "id": "c07671cc-1bf2-44d7-9f91-be5e2e6c6ef9",
   "metadata": {},
   "outputs": [],
   "source": [
    "# Motivated by https://github.com/lukasheinrich/lhoodbinder2/blob/rootless/PlotContour.ipynb"
   ]
  },
  {
   "cell_type": "code",
   "execution_count": null,
   "id": "eb236e52-ff8c-4011-816e-66422eaa1469",
   "metadata": {},
   "outputs": [],
   "source": [
    "%matplotlib widget\n",
    "\n",
    "import array\n",
    "import json\n",
    "\n",
    "import matplotlib.pyplot as plt\n",
    "import mplhep\n",
    "import numpy as np\n",
    "from descartes import PolygonPatch\n",
    "from shapely.geometry.polygon import Polygon"
   ]
  },
  {
   "cell_type": "code",
   "execution_count": null,
   "id": "72c925e9-cd92-4ef0-a868-ec41363feb03",
   "metadata": {},
   "outputs": [],
   "source": [
    "# Find way to simplify and remove these\n",
    "# from plotting import harvest_results, make_plot\n",
    "from plotting import make_plot"
   ]
  },
  {
   "cell_type": "code",
   "execution_count": null,
   "id": "6524f0fa-f7a3-484b-8cf5-c9206c3a3727",
   "metadata": {},
   "outputs": [],
   "source": [
    "with open(\"results.json\") as read_file:\n",
    "    _results = json.load(read_file)\n",
    "\n",
    "with open(\"harvests.json\") as read_file:\n",
    "    _harvests = json.load(read_file)"
   ]
  },
  {
   "cell_type": "code",
   "execution_count": null,
   "id": "0c5d6ca8-d40b-44e2-a5ab-7aafb4353ce5",
   "metadata": {},
   "outputs": [],
   "source": [
    "# load atlas style\n",
    "plt.style.use(mplhep.style.ATLAS)"
   ]
  },
  {
   "cell_type": "code",
   "execution_count": null,
   "id": "f4d782c9-10d5-4af6-a9c5-ea3b48e7f0d1",
   "metadata": {},
   "outputs": [],
   "source": [
    "fig, ax = plt.subplots()\n",
    "fig.set_size_inches(9.33, 7)"
   ]
  },
  {
   "cell_type": "code",
   "execution_count": null,
   "id": "9d67dc0b-f443-408f-a36c-15adabda43ef",
   "metadata": {},
   "outputs": [],
   "source": [
    "# show the mass hypotheses being interpolated between\n",
    "# ax.scatter(*mass_ranges, s=20, alpha=0.2);  # Move this out of the scripts"
   ]
  },
  {
   "cell_type": "code",
   "execution_count": null,
   "id": "074fc143-18a3-42e3-b639-7fad9d7d46c8",
   "metadata": {},
   "outputs": [],
   "source": [
    "# data_list of form (f'region{region}', harvest) where region is old type\n",
    "data_list = [(key, _harvests[key]) for key in _harvests.keys()]"
   ]
  },
  {
   "cell_type": "code",
   "execution_count": null,
   "id": "eccaa8f0-1233-4c87-a020-e98b6e9efd2a",
   "metadata": {},
   "outputs": [],
   "source": [
    "make_plot(\n",
    "    ax,\n",
    "    dataList=data_list,\n",
    "    label=\"Open Likelihood\",\n",
    "    color=\"steelblue\",\n",
    "    showPoints=True,\n",
    "    showInterPolated=True,\n",
    ")"
   ]
  },
  {
   "cell_type": "code",
   "execution_count": null,
   "id": "26c4aa06-444c-4654-8c11-990f88911cb0",
   "metadata": {},
   "outputs": [],
   "source": [
    "def kinematic_exclusion(ax):\n",
    "    line = ax.axline((150, 25), (650, 525), linestyle=\"-.\", color=\"#cccccc\", alpha=0.9)\n",
    "    p1 = ax.transData.transform_point((150, 25))\n",
    "    p2 = ax.transData.transform_point((650, 525))\n",
    "    dy = p2[1] - p1[1]\n",
    "    dx = p2[0] - p1[0]\n",
    "    rotn = np.degrees(np.arctan2(dy, dx))\n",
    "    ax.text(\n",
    "        200,\n",
    "        100,\n",
    "        r\"$m(\\tilde{\\chi}^{\\pm}_{1}/\\tilde{\\chi}^{0}_{2}) < m(\\tilde{\\chi}^{0}_{1}) + 125\\ \\mathrm{GeV}$\",\n",
    "        va=\"baseline\",\n",
    "        fontsize=\"x-small\",\n",
    "        color=\"#cccccc\",\n",
    "        alpha=0.9,\n",
    "        rotation=rotn,\n",
    "    )"
   ]
  },
  {
   "cell_type": "code",
   "execution_count": null,
   "id": "b93558fa-e16e-4c4d-918b-015289168b7a",
   "metadata": {},
   "outputs": [],
   "source": [
    "kinematic_exclusion(ax)"
   ]
  },
  {
   "cell_type": "code",
   "execution_count": null,
   "id": "5ad4ace4-c23a-45da-a81b-84d9b37041aa",
   "metadata": {},
   "outputs": [],
   "source": [
    "# Set plot ranges\n",
    "mass_ranges = np.asarray(\n",
    "    [values[\"mass_hypotheses\"] for _, values in _results.items()]\n",
    ").T\n",
    "\n",
    "ax.set_xlim(mass_ranges[0].min(), mass_ranges[0].max() + 100)\n",
    "ax.set_ylim(\n",
    "    mass_ranges[1].min() if mass_ranges[1].min() > 0 else 0, mass_ranges[1].max() + 100\n",
    ");"
   ]
  },
  {
   "cell_type": "code",
   "execution_count": null,
   "id": "a8b630df-c7ec-4737-93cd-ee4f683d9e65",
   "metadata": {},
   "outputs": [],
   "source": [
    "ax.set_xlabel(r\"$m(\\tilde{\\chi}_{1}^{\\pm}/\\tilde{\\chi}_{2}^{0})$ [GeV]\")\n",
    "ax.set_ylabel(r\"$m(\\tilde{\\chi}_{1}^{0})$ [GeV]\")"
   ]
  }
 ],
 "metadata": {
  "kernelspec": {
   "display_name": "Python 3 (ipykernel)",
   "language": "python",
   "name": "python3"
  },
  "language_info": {
   "codemirror_mode": {
    "name": "ipython",
    "version": 3
   },
   "file_extension": ".py",
   "mimetype": "text/x-python",
   "name": "python",
   "nbconvert_exporter": "python",
   "pygments_lexer": "ipython3",
   "version": "3.9.6"
  }
 },
 "nbformat": 4,
 "nbformat_minor": 5
}
